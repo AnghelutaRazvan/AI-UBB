{
  "nbformat": 4,
  "nbformat_minor": 0,
  "metadata": {
    "colab": {
      "name": "AI_Lab05 .ipynb",
      "provenance": [],
      "collapsed_sections": []
    },
    "kernelspec": {
      "name": "python3",
      "display_name": "Python 3"
    },
    "language_info": {
      "name": "python"
    }
  },
  "cells": [
    {
      "cell_type": "code",
      "source": [
        "import numpy as np"
      ],
      "metadata": {
        "id": "gBT3-9D3SOZw"
      },
      "execution_count": null,
      "outputs": []
    },
    {
      "cell_type": "code",
      "source": [
        "randomGraph = False\n",
        "\n",
        "fileName = '/content/ho1447.tsp'\n",
        "\n",
        "\n",
        "\"\"\"\n",
        "fileName = '/content/ho1447.tsp'\n",
        "fileName = '/content/ch220.tsp'\n",
        "fileName = '/content/ch20.tsp'\n",
        "\"\"\""
      ],
      "metadata": {
        "colab": {
          "base_uri": "https://localhost:8080/",
          "height": 53
        },
        "id": "XPfQK24FqDtz",
        "outputId": "cf3b6ddc-bcd8-45e6-cb99-d8ee3404667b"
      },
      "execution_count": null,
      "outputs": [
        {
          "output_type": "execute_result",
          "data": {
            "text/plain": [
              "\"\\nfileName = '/content/ho1447.tsp'\\nfileName = '/content/ch220.tsp'\\nfileName = '/content/ch20.tsp'\\n\""
            ],
            "application/vnd.google.colaboratory.intrinsic+json": {
              "type": "string"
            }
          },
          "metadata": {},
          "execution_count": 129
        }
      ]
    },
    {
      "cell_type": "code",
      "source": [
        "def distanta(a, b):\n",
        "  return np.sqrt((a[0]-b[0])**2 + (a[1]-b[1])**2)"
      ],
      "metadata": {
        "id": "5c0uPxhfGxzv"
      },
      "execution_count": null,
      "outputs": []
    },
    {
      "cell_type": "code",
      "source": [
        "evaporation_rate = 0.2\n",
        "alfa = 1\n",
        "beta = 1\n",
        "Q = 10\n"
      ],
      "metadata": {
        "id": "ml16yfqBSwqG"
      },
      "execution_count": null,
      "outputs": []
    },
    {
      "cell_type": "code",
      "source": [
        "\n",
        "\n",
        "\n",
        "\n",
        "if randomGraph:\n",
        "  n = np.random.randint(8, 20)\n",
        "  start = np.random.randint(0, n)\n",
        "  d = (np.random.rand(n, n))*100\n",
        "  for y in range(n):\n",
        "    for x in range(y):\n",
        "      d[x, y] = d[y, x]\n",
        "\n",
        "  print(\"n:\", n, \"\\nstart:\", start)#, \"\\nDistante:\\n\", d)\n",
        "\n",
        "\n",
        "else:\n",
        "  with open('/content/ch220.tsp') as file:\n",
        "    c = file.readline().split(' ')\n",
        "    while c[0] != 'DIMENSION' and c[0] != 'EOF' and  c[0] != '':\n",
        "      c = file.readline().split(' ')\n",
        "    n = int(c[2][:-1])\n",
        "    print(n)\n",
        "\n",
        "    while c[0] != 'NODE_COORD_SECTION\\n' and c[0] != 'EOF' and c[0] != '':\n",
        "      try:\n",
        "        c = file.readline().split(' ')\n",
        "      except:\n",
        "        break\n",
        "    \n",
        "    x = [0.0]*n\n",
        "    y = [0.0]*n\n",
        "    d = np.ones([n, n])\n",
        "    #d = np.zeros(shape = (n, n))\n",
        "    start = np.random.randint(0, n)\n",
        "\n",
        "    \n",
        "\n",
        "    while c[0] != 'EOF\\n' and c[0] != '':\n",
        "      try:\n",
        "        c = file.readline().split(' ')\n",
        "        x[int(c[0])-1] = float(c[1])\n",
        "        y[int(c[0])-1] = float(c[2][:-1])\n",
        "      except:\n",
        "        print(c)\n",
        "        break\n",
        "    \n",
        "    for i in range(1, n-1):\n",
        "      for j in range(i+1, n):\n",
        "        d[i, j] = distanta((x[i], y[i]), (x[j], y[j]))\n",
        "        d[j, i] = d[i, j]\n",
        "      "
      ],
      "metadata": {
        "colab": {
          "base_uri": "https://localhost:8080/"
        },
        "id": "VFfXEpWvSSQa",
        "outputId": "78bf23b0-36d0-470e-b8f3-3b7062f1a8e8"
      },
      "execution_count": null,
      "outputs": [
        {
          "output_type": "stream",
          "name": "stdout",
          "text": [
            "220\n",
            "['EOF\\n']\n"
          ]
        }
      ]
    },
    {
      "cell_type": "code",
      "source": [
        "\n",
        "global feromoni\n",
        "feromoni = np.ones([n, n])\n",
        "\n",
        "trafic = np.zeros([n, n], dtype = int)\n",
        "\n",
        "global furnici\n",
        "furnici = []"
      ],
      "metadata": {
        "id": "_bRH5gJBsF2V"
      },
      "execution_count": null,
      "outputs": []
    },
    {
      "cell_type": "code",
      "source": [
        "class furnica:\n",
        "  def __init__(self, nume, locatie):\n",
        "    self.nume = nume\n",
        "    self.locatie = locatie\n",
        "    self.nevizitate = np.delete(np.arange(n), locatie)\n",
        "    self.vizitate = [locatie]\n",
        "\n",
        "  def go(self, j):\n",
        "    global trafic\n",
        "    trafic[self.locatie, j] += 1\n",
        "    trafic[j, self.locatie] = trafic[self.locatie, j]\n",
        "\n",
        "    self.locatie = j\n",
        "    self.vizitate.append(j)\n",
        "    self.nevizitate = np.delete(self.nevizitate, np.where(self.nevizitate == j))\n",
        "  \n",
        "  def show(self):\n",
        "    print(\"Furnica:\", self.nume)\n",
        "    print(\"Vizitate:\", self.vizitate)\n",
        "    print(\"Nevizitate\", self.nevizitate)\n",
        "    print(\"Drum parcurs\", fitness(self.vizitate))\n",
        "    print()"
      ],
      "metadata": {
        "id": "AINmKZfYTbBz"
      },
      "execution_count": null,
      "outputs": []
    },
    {
      "cell_type": "code",
      "source": [
        "def calcProb(f):\n",
        "  p = []\n",
        "  numitor = 0\n",
        "  for j in f.nevizitate:\n",
        "    numitor += np.power(feromoni[f.locatie][j], alfa) * np.power(1/d[f.locatie, j], beta)\n",
        "  for j in f.nevizitate:\n",
        "    p.append((np.power(feromoni[f.locatie][j], alfa) * np.power(1/d[f.locatie, j], beta))/numitor)\n",
        "  return p\n"
      ],
      "metadata": {
        "id": "Vc8gRyYnZebg"
      },
      "execution_count": null,
      "outputs": []
    },
    {
      "cell_type": "code",
      "source": [
        "def updateFeromoni():\n",
        "  global feromoni\n",
        "  for y in range(n):\n",
        "    for x in range(y):\n",
        "      if x != y:\n",
        "        feromoni[x, y] = (1-evaporation_rate)*feromoni[x, y] + trafic[x, y]*(Q/d[x, y])\n",
        "        feromoni[y, x] = feromoni[x, y]"
      ],
      "metadata": {
        "id": "erPtF4r5lSyP"
      },
      "execution_count": null,
      "outputs": []
    },
    {
      "cell_type": "code",
      "source": [
        "def fitness(vizitate):\n",
        "  lungime = 0\n",
        "  for i in range(len(vizitate)-1):\n",
        "    lungime += d[vizitate[i], vizitate[i+1]]\n",
        "\n",
        "  return lungime"
      ],
      "metadata": {
        "id": "lmX-yGJypUZ9"
      },
      "execution_count": null,
      "outputs": []
    },
    {
      "cell_type": "code",
      "source": [
        "def evaluate():\n",
        "  fitnesses = []\n",
        "  for f in furnici:\n",
        "    #print(\"Furnica:\", f.nume, \"are drumul\", f.vizitate, \"cu fitness-ul\", fitness(f.vizitate))\n",
        "    fitnesses.append(fitness(f.vizitate))\n",
        "  m = min(fitnesses)\n",
        "  for f in furnici:\n",
        "    if fitness(f.vizitate) == m:\n",
        "      print(\"Minimul este\", f.vizitate,\"\\n    cu distanta:\", m, \"\\n\\n\\n\")\n",
        "      break"
      ],
      "metadata": {
        "id": "jjydoxvUuvJ7"
      },
      "execution_count": null,
      "outputs": []
    },
    {
      "cell_type": "code",
      "source": [
        "def iteratie(nfurnici = 5):\n",
        "  global furnici\n",
        "  furnici = []\n",
        "\n",
        "  for f in range(nfurnici):\n",
        "    furnici.append(furnica(f, start))\n",
        "\n",
        "  for i in range(n-1):\n",
        "    for f in furnici:\n",
        "      j = np.random.choice(f.nevizitate, p = calcProb(f))\n",
        "      f.go(j)\n",
        "\n",
        "  for f in furnici:\n",
        "    #f.show()\n",
        "    f.go(start)\n",
        "\n",
        "  "
      ],
      "metadata": {
        "id": "7TxR9QHlT0XN"
      },
      "execution_count": null,
      "outputs": []
    },
    {
      "cell_type": "code",
      "source": [
        "alfa, beta = 1, 1       #\n",
        "evaporation_rate = 0.5\n",
        "Q = 1000"
      ],
      "metadata": {
        "id": "JDQKtijx93ro"
      },
      "execution_count": null,
      "outputs": []
    },
    {
      "cell_type": "code",
      "source": [
        "for i in range(1):\n",
        "  trafic = np.zeros([n, n], dtype = int)\n",
        "  iteratie(10)\n",
        "  updateFeromoni()\n",
        "\n",
        "evaluate()\n",
        "#for f in furnici:\n",
        "  #f.show()\n",
        "#print(np.array_str(feromoni, precision = 2), \"Trafic\\n \",trafic)"
      ],
      "metadata": {
        "colab": {
          "base_uri": "https://localhost:8080/"
        },
        "id": "nyQkGgyFsQc2",
        "outputId": "e4c6aea9-c949-4ef5-95a1-4ef7694fc0de"
      },
      "execution_count": null,
      "outputs": [
        {
          "output_type": "stream",
          "name": "stdout",
          "text": [
            "Minimul este [168, 0, 9, 8, 6, 3, 7, 16, 25, 18, 21, 33, 23, 81, 36, 44, 52, 49, 59, 65, 66, 83, 87, 88, 95, 80, 99, 124, 138, 110, 96, 94, 63, 71, 79, 67, 61, 74, 30, 56, 86, 84, 111, 126, 136, 141, 148, 163, 174, 129, 162, 170, 192, 193, 90, 76, 62, 50, 45, 42, 69, 68, 107, 77, 75, 72, 114, 70, 73, 78, 91, 101, 112, 104, 98, 128, 151, 206, 217, 200, 219, 178, 177, 143, 131, 121, 157, 152, 171, 158, 146, 169, 186, 189, 210, 215, 172, 196, 159, 153, 165, 198, 218, 213, 185, 194, 183, 208, 166, 156, 122, 102, 89, 130, 117, 113, 202, 204, 155, 187, 180, 190, 123, 108, 103, 106, 137, 150, 144, 145, 199, 209, 203, 179, 173, 176, 12, 10, 5, 4, 19, 14, 11, 20, 27, 34, 22, 31, 29, 35, 26, 39, 53, 51, 17, 13, 24, 15, 32, 38, 48, 57, 64, 60, 41, 40, 47, 58, 46, 43, 54, 55, 37, 1, 2, 28, 105, 115, 116, 109, 85, 100, 93, 119, 133, 160, 147, 127, 97, 120, 182, 205, 195, 167, 134, 149, 154, 132, 92, 82, 125, 135, 139, 164, 175, 212, 161, 197, 181, 211, 201, 140, 188, 216, 191, 184, 207, 214, 142, 118, 168] \n",
            "    cu distanta: 12656.073887942057 \n",
            "\n",
            "\n",
            "\n"
          ]
        }
      ]
    }
  ]
}