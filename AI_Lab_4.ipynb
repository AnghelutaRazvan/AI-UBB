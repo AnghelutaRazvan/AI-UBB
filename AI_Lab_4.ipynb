{
  "nbformat": 4,
  "nbformat_minor": 0,
  "metadata": {
    "colab": {
      "name": "AI Lab 4.ipynb",
      "provenance": [],
      "collapsed_sections": [],
      "authorship_tag": "ABX9TyPHoLwQwD4WbUe+l575xMEA",
      "include_colab_link": true
    },
    "kernelspec": {
      "name": "python3",
      "display_name": "Python 3"
    },
    "language_info": {
      "name": "python"
    }
  },
  "cells": [
    {
      "cell_type": "markdown",
      "metadata": {
        "id": "view-in-github",
        "colab_type": "text"
      },
      "source": [
        "<a href=\"https://colab.research.google.com/github/AnghelutaRazvan/AI-UBB/blob/main/AI_Lab_4.ipynb\" target=\"_parent\"><img src=\"https://colab.research.google.com/assets/colab-badge.svg\" alt=\"Open In Colab\"/></a>"
      ]
    },
    {
      "cell_type": "code",
      "execution_count": 1,
      "metadata": {
        "id": "ovbcK-lDDTRj"
      },
      "outputs": [],
      "source": [
        "import random\n",
        "import numpy as np"
      ]
    },
    {
      "cell_type": "code",
      "source": [
        "def read(filename, rand = 0):\n",
        "  \n",
        "  if rand == 0:\n",
        "    f = open(filename)\n",
        "    n = int(f.readline())\n",
        "    mat = np.array([0]*n*n).reshape(n,n)\n",
        "    for i in range(n):\n",
        "      line = f.readline()\n",
        "      cuv = line.split(',')\n",
        "      for j in range(n):\n",
        "        mat[i][j] = int(cuv[j])\n",
        "    s = int(f.readline())\n",
        "    d = int(f.readline())\n",
        "    f.close()\n",
        "  \n",
        "  if rand == 1:\n",
        "    n = random.randint(5, 18)\n",
        "    mat = np.array([0]*n*n).reshape(n,n)\n",
        "    for i in range(n):\n",
        "      for j in range(i):\n",
        "        mat[i][j] = random.randint(2, 101)\n",
        "        mat[j][i] = mat[i][j]\n",
        "    s = random.randint(1, n+1)\n",
        "    d = random.randint(1, n+1)\n",
        "\n",
        "  return (n, s, d, mat)\n"
      ],
      "metadata": {
        "id": "gB-ycK1kGCyl"
      },
      "execution_count": 2,
      "outputs": []
    },
    {
      "cell_type": "code",
      "source": [
        "#r = read(\"/easy_01_tsp.txt\")\n",
        "r = read(\"mine1_tsp.txt\", 1)\n",
        "n, s, d, mat = r\n",
        "print(\"Numarul de noduri:\", n, \"\\nSursa:\", s,\"\\nDestinatia:\", d,\"\\nMatricea de greutati:\\n\", mat)"
      ],
      "metadata": {
        "colab": {
          "base_uri": "https://localhost:8080/"
        },
        "id": "kzkVCBisJlZB",
        "outputId": "11da927e-355a-4100-f5b9-d1787db1f8d0"
      },
      "execution_count": 3,
      "outputs": [
        {
          "output_type": "stream",
          "name": "stdout",
          "text": [
            "Numarul de noduri: 16 \n",
            "Sursa: 15 \n",
            "Destinatia: 8 \n",
            "Matricea de greutati:\n",
            " [[  0  30  18  63  98  29  16  25  61  85  43   8   7  20  72  38]\n",
            " [ 30   0  42   3  89  86  25  98 100  58  29  91  88  63  42  17]\n",
            " [ 18  42   0  15   2  37  23  17   8  39  99  48  98  22  83  62]\n",
            " [ 63   3  15   0  60  89  60  32  33  53  22  86  79  31  45  92]\n",
            " [ 98  89   2  60   0  78  46  95   7  94  92  97  61  50  82  13]\n",
            " [ 29  86  37  89  78   0  77   3  56   6  55  91  50  37  81  83]\n",
            " [ 16  25  23  60  46  77   0  78  98  82  69  24   3  17  19  16]\n",
            " [ 25  98  17  32  95   3  78   0  15  36  12  56  40  26  79  78]\n",
            " [ 61 100   8  33   7  56  98  15   0  96  62  89  32  17  81  80]\n",
            " [ 85  58  39  53  94   6  82  36  96   0  58 100  59  81  17  37]\n",
            " [ 43  29  99  22  92  55  69  12  62  58   0  73  39  89  62  92]\n",
            " [  8  91  48  86  97  91  24  56  89 100  73   0  39  50  20  77]\n",
            " [  7  88  98  79  61  50   3  40  32  59  39  39   0  78  42  27]\n",
            " [ 20  63  22  31  50  37  17  26  17  81  89  50  78   0  89  33]\n",
            " [ 72  42  83  45  82  81  19  79  81  17  62  20  42  89   0  24]\n",
            " [ 38  17  62  92  13  83  16  78  80  37  92  77  27  33  24   0]]\n"
          ]
        }
      ]
    },
    {
      "cell_type": "code",
      "source": [
        "def fitness(ind):\n",
        "  f = 0\n",
        "  for i in range(len(ind)-1):\n",
        "    #print(f,[ind[i]-1],[ind[i+1]-1], mat[ind[i]-1][ind[i+1]-1])\n",
        "    f += mat[ind[i]-1][ind[i+1]-1]\n",
        "  return f"
      ],
      "metadata": {
        "id": "pGLWVXyhR3pS"
      },
      "execution_count": 4,
      "outputs": []
    },
    {
      "cell_type": "code",
      "source": [
        "pathOpt = list(i + 1 for i in range(n))\n",
        "pathOpt.remove(s)\n",
        "pathOpt.remove(d)\n",
        "pathOpt"
      ],
      "metadata": {
        "colab": {
          "base_uri": "https://localhost:8080/"
        },
        "id": "h-ABYYkdLDjR",
        "outputId": "26be1f73-2bed-411d-95e2-9dcfe1ba8627"
      },
      "execution_count": 5,
      "outputs": [
        {
          "output_type": "execute_result",
          "data": {
            "text/plain": [
              "[1, 2, 3, 4, 5, 6, 7, 9, 10, 11, 12, 13, 14, 16]"
            ]
          },
          "metadata": {},
          "execution_count": 5
        }
      ]
    },
    {
      "cell_type": "code",
      "source": [
        "def genInd():\n",
        "  path = [s] + random.sample(pathOpt, n-2) + [d]\n",
        "  return path"
      ],
      "metadata": {
        "id": "qBuNvppkNAgO"
      },
      "execution_count": 6,
      "outputs": []
    },
    {
      "cell_type": "code",
      "source": [
        "def genPop(npop):\n",
        "  pop = []\n",
        "  noLoop = 0\n",
        "  for i in range(npop):\n",
        "    Ind = genInd()\n",
        "    while Ind in pop:\n",
        "      Ind = genInd()\n",
        "      noLoop += 1\n",
        "      if noLoop > 20:\n",
        "        return pop\n",
        "\n",
        "    pop.append(Ind)\n",
        "\n",
        "  return pop"
      ],
      "metadata": {
        "id": "055lsRCHtkfN"
      },
      "execution_count": 7,
      "outputs": []
    },
    {
      "cell_type": "code",
      "source": [
        "print(genPop(7))"
      ],
      "metadata": {
        "colab": {
          "base_uri": "https://localhost:8080/"
        },
        "id": "qsJYp9Hbuh2S",
        "outputId": "68c2310d-6f91-4a1b-b356-fd1a7b765751"
      },
      "execution_count": 8,
      "outputs": [
        {
          "output_type": "stream",
          "name": "stdout",
          "text": [
            "[[15, 13, 1, 12, 14, 6, 2, 9, 7, 3, 4, 16, 10, 5, 11, 8], [15, 13, 12, 1, 9, 7, 16, 10, 2, 11, 6, 14, 5, 4, 3, 8], [15, 16, 9, 14, 10, 5, 7, 2, 6, 11, 12, 13, 4, 1, 3, 8], [15, 11, 14, 2, 13, 4, 10, 5, 1, 12, 3, 16, 9, 6, 7, 8], [15, 11, 5, 7, 10, 12, 6, 2, 13, 4, 16, 3, 14, 9, 1, 8], [15, 9, 5, 12, 3, 4, 2, 13, 16, 10, 11, 1, 14, 6, 7, 8], [15, 14, 10, 2, 1, 3, 5, 16, 12, 13, 6, 11, 4, 7, 9, 8]]\n"
          ]
        }
      ]
    },
    {
      "cell_type": "code",
      "source": [
        "def cross(a, b):\n",
        "  n = min(len(a), len(b))\n",
        "  for i in range(n):\n",
        "    if a[i] == b[i]:\n",
        "      if random.random() < 0.9:\n",
        "        break\n",
        "  return a[0:i] + b[i:n]"
      ],
      "metadata": {
        "id": "myMqrkrKqEVy"
      },
      "execution_count": 9,
      "outputs": []
    },
    {
      "cell_type": "code",
      "source": [
        "def mutate(chance, a):\n",
        "  if random.random() < chance:\n",
        "    i1 = random.raindint(1, n)\n",
        "    i2 = random.raindint(1, n)\n",
        "    a[i1], a[i2] = a[i2], a[i1]"
      ],
      "metadata": {
        "id": "EINErTmD0zYf"
      },
      "execution_count": 10,
      "outputs": []
    },
    {
      "cell_type": "code",
      "source": [
        "cross([1, 2, 3, 4, 5, 6, 7], [11, 22, 33, 44, 5, 66, 77])"
      ],
      "metadata": {
        "colab": {
          "base_uri": "https://localhost:8080/"
        },
        "id": "veJGMCkch9AE",
        "outputId": "3749e835-1fa9-42e7-b56c-0f12ba632066"
      },
      "execution_count": 11,
      "outputs": [
        {
          "output_type": "execute_result",
          "data": {
            "text/plain": [
              "[1, 2, 3, 4, 5, 66, 77]"
            ]
          },
          "metadata": {},
          "execution_count": 11
        }
      ]
    },
    {
      "cell_type": "code",
      "source": [
        "cross([11, 22, 33, 44, 5, 66, 77], [1, 2, 3, 4, 5, 6, 7])"
      ],
      "metadata": {
        "colab": {
          "base_uri": "https://localhost:8080/"
        },
        "id": "LlFr8seJrWtI",
        "outputId": "418a900b-8aac-4c47-e588-a9eda73a4ec7"
      },
      "execution_count": 12,
      "outputs": [
        {
          "output_type": "execute_result",
          "data": {
            "text/plain": [
              "[11, 22, 33, 44, 5, 6, 7]"
            ]
          },
          "metadata": {},
          "execution_count": 12
        }
      ]
    },
    {
      "cell_type": "code",
      "source": [
        "def breed(popI, nbreed):\n",
        "  popB = popI.copy()\n",
        "  popB.sort(key = fitness)\n",
        "  for i in range(nbreed+1):\n",
        "    kid1 = cross(popB[0], popB[1])\n",
        "    kid2 = cross(popB[1], popB[0])\n",
        "\n",
        "    if fitness(kid1) < fitness(popB[-1]) and kid1 not in popB:\n",
        "      popB[-1] = kid1\n",
        "    if fitness(kid2) < fitness(popB[-2]) and kid2 not in popB:\n",
        "      popB[-2] = kid2\n",
        "\n",
        "    popB.sort(key = fitness)\n",
        "  return popB"
      ],
      "metadata": {
        "id": "WExMt3rVqmb-"
      },
      "execution_count": 23,
      "outputs": []
    },
    {
      "cell_type": "code",
      "source": [
        "def eval(popI):\n",
        "  popE = popI.copy()\n",
        "  popE.sort(key = fitness)\n",
        "  f = [fitness(p) for p in popE]\n",
        "  print(popE)\n",
        "  print(f)"
      ],
      "metadata": {
        "id": "Xxu87ghstLqT"
      },
      "execution_count": 24,
      "outputs": []
    },
    {
      "cell_type": "code",
      "source": [
        "pop = genPop(50)"
      ],
      "metadata": {
        "id": "dFfWDD64xKDO"
      },
      "execution_count": 39,
      "outputs": []
    },
    {
      "cell_type": "code",
      "source": [
        "eval(pop)"
      ],
      "metadata": {
        "colab": {
          "base_uri": "https://localhost:8080/"
        },
        "id": "xUOxWyOotPVd",
        "outputId": "e047dcc5-7a86-4f97-b8ef-9cedf18b4010"
      },
      "execution_count": 40,
      "outputs": [
        {
          "output_type": "stream",
          "name": "stdout",
          "text": [
            "[[15, 16, 7, 13, 5, 14, 11, 4, 12, 2, 1, 3, 9, 10, 6, 8], [15, 16, 11, 9, 2, 1, 12, 4, 10, 6, 13, 7, 5, 3, 14, 8], [15, 12, 6, 11, 16, 5, 10, 14, 4, 3, 9, 13, 7, 2, 1, 8], [15, 16, 1, 3, 10, 6, 12, 5, 7, 13, 2, 11, 9, 14, 4, 8], [15, 16, 5, 6, 11, 10, 2, 9, 1, 14, 12, 7, 13, 4, 3, 8], [15, 6, 7, 5, 11, 4, 3, 1, 12, 16, 2, 14, 9, 13, 10, 8], [15, 9, 4, 10, 7, 1, 6, 2, 11, 13, 16, 12, 14, 5, 3, 8], [15, 6, 7, 13, 5, 10, 16, 1, 11, 12, 3, 2, 4, 9, 14, 8], [15, 16, 2, 10, 3, 12, 9, 6, 1, 4, 5, 7, 13, 11, 14, 8], [15, 13, 5, 9, 12, 4, 1, 16, 7, 11, 2, 3, 6, 10, 14, 8], [15, 10, 1, 2, 12, 11, 6, 3, 14, 7, 4, 9, 13, 5, 16, 8], [15, 5, 4, 10, 6, 2, 12, 7, 1, 3, 11, 9, 13, 16, 14, 8], [15, 13, 14, 6, 10, 2, 11, 12, 16, 3, 5, 9, 7, 4, 1, 8], [15, 1, 12, 7, 14, 13, 11, 6, 2, 4, 5, 10, 3, 16, 9, 8], [15, 12, 14, 4, 2, 9, 1, 10, 3, 16, 6, 13, 7, 5, 11, 8], [15, 3, 6, 14, 4, 5, 9, 10, 13, 12, 2, 7, 16, 11, 1, 8], [15, 12, 4, 6, 14, 3, 2, 9, 13, 1, 16, 10, 7, 5, 11, 8], [15, 10, 11, 13, 3, 4, 7, 12, 6, 1, 9, 14, 2, 5, 16, 8], [15, 12, 16, 3, 1, 5, 14, 11, 7, 6, 10, 2, 4, 13, 9, 8], [15, 10, 6, 11, 3, 13, 1, 5, 2, 14, 16, 7, 12, 9, 4, 8], [15, 6, 2, 10, 3, 9, 1, 13, 16, 4, 12, 14, 7, 5, 11, 8], [15, 7, 12, 4, 11, 3, 9, 10, 2, 6, 16, 13, 5, 14, 1, 8], [15, 4, 10, 3, 6, 5, 12, 14, 2, 9, 11, 1, 16, 7, 13, 8], [15, 5, 1, 12, 3, 6, 2, 16, 13, 4, 11, 7, 10, 14, 9, 8], [15, 5, 13, 7, 2, 14, 12, 6, 3, 4, 16, 10, 9, 1, 11, 8], [15, 14, 7, 3, 1, 9, 5, 13, 11, 6, 10, 12, 4, 16, 2, 8], [15, 11, 4, 6, 5, 3, 13, 9, 1, 12, 7, 16, 10, 14, 2, 8], [15, 16, 6, 14, 10, 11, 12, 9, 3, 2, 7, 13, 5, 1, 4, 8], [15, 14, 1, 10, 6, 4, 9, 5, 13, 7, 11, 3, 16, 2, 12, 8], [15, 4, 11, 9, 7, 13, 1, 3, 10, 12, 6, 16, 5, 14, 2, 8], [15, 14, 11, 2, 9, 13, 5, 16, 4, 3, 6, 7, 1, 12, 10, 8], [15, 14, 16, 11, 3, 6, 2, 7, 12, 13, 5, 9, 4, 1, 10, 8], [15, 1, 11, 7, 13, 2, 16, 3, 12, 5, 4, 9, 10, 14, 6, 8], [15, 10, 4, 5, 14, 12, 11, 7, 9, 16, 13, 3, 1, 2, 6, 8], [15, 14, 2, 3, 10, 13, 5, 16, 7, 11, 12, 9, 1, 6, 4, 8], [15, 7, 12, 9, 11, 10, 16, 5, 14, 3, 13, 4, 1, 6, 2, 8], [15, 9, 13, 3, 14, 16, 6, 1, 7, 4, 12, 5, 2, 11, 10, 8], [15, 1, 7, 6, 9, 10, 12, 3, 14, 16, 13, 11, 4, 5, 2, 8], [15, 6, 11, 7, 3, 13, 10, 1, 12, 14, 5, 9, 16, 4, 2, 8], [15, 16, 3, 13, 5, 12, 7, 4, 14, 11, 1, 9, 6, 2, 10, 8], [15, 1, 3, 6, 14, 11, 16, 13, 10, 9, 4, 7, 2, 5, 12, 8], [15, 2, 7, 12, 16, 9, 10, 1, 5, 14, 13, 6, 3, 11, 4, 8], [15, 3, 12, 10, 11, 6, 2, 13, 4, 9, 14, 7, 16, 1, 5, 8], [15, 3, 10, 14, 6, 4, 13, 1, 9, 11, 7, 16, 5, 12, 2, 8], [15, 1, 16, 12, 7, 9, 10, 6, 4, 11, 5, 2, 14, 3, 13, 8], [15, 4, 13, 9, 6, 2, 16, 12, 3, 1, 10, 14, 11, 5, 7, 8], [15, 3, 14, 13, 12, 9, 7, 2, 11, 6, 16, 1, 10, 4, 5, 8], [15, 2, 12, 9, 1, 7, 4, 6, 16, 5, 11, 14, 3, 13, 10, 8], [15, 3, 6, 16, 13, 2, 14, 5, 1, 9, 11, 7, 4, 10, 12, 8], [15, 11, 5, 1, 9, 10, 14, 13, 16, 12, 3, 6, 4, 7, 2, 8]]\n",
            "[603, 610, 615, 621, 655, 660, 671, 676, 686, 692, 704, 715, 717, 732, 737, 741, 742, 752, 753, 759, 762, 764, 764, 768, 768, 769, 771, 777, 787, 792, 794, 809, 809, 812, 824, 827, 849, 855, 858, 886, 887, 895, 911, 922, 926, 929, 932, 940, 990, 1029]\n"
          ]
        }
      ]
    },
    {
      "cell_type": "code",
      "source": [
        "popNew = breed(pop, 100)"
      ],
      "metadata": {
        "id": "_Bgjr4N0tCh-"
      },
      "execution_count": 41,
      "outputs": []
    },
    {
      "cell_type": "code",
      "source": [
        "eval(popNew)"
      ],
      "metadata": {
        "colab": {
          "base_uri": "https://localhost:8080/"
        },
        "id": "1s5iHcwBxk4c",
        "outputId": "dfeb2438-6738-42e7-d88e-e22a83ce4177"
      },
      "execution_count": 42,
      "outputs": [
        {
          "output_type": "stream",
          "name": "stdout",
          "text": [
            "[[15, 16, 7, 13, 5, 14, 11, 4, 10, 6, 13, 7, 5, 3, 14, 8], [15, 16, 7, 13, 5, 14, 11, 4, 12, 2, 1, 3, 9, 10, 6, 8], [15, 16, 11, 9, 2, 1, 12, 4, 10, 6, 13, 7, 5, 3, 14, 8], [15, 12, 6, 11, 16, 5, 10, 14, 4, 3, 9, 13, 7, 2, 1, 8], [15, 16, 1, 3, 10, 6, 12, 5, 7, 13, 2, 11, 9, 14, 4, 8], [15, 16, 5, 6, 11, 10, 2, 9, 1, 14, 12, 7, 13, 4, 3, 8], [15, 6, 7, 5, 11, 4, 3, 1, 12, 16, 2, 14, 9, 13, 10, 8], [15, 9, 4, 10, 7, 1, 6, 2, 11, 13, 16, 12, 14, 5, 3, 8], [15, 6, 7, 13, 5, 10, 16, 1, 11, 12, 3, 2, 4, 9, 14, 8], [15, 16, 2, 10, 3, 12, 9, 6, 1, 4, 5, 7, 13, 11, 14, 8], [15, 13, 5, 9, 12, 4, 1, 16, 7, 11, 2, 3, 6, 10, 14, 8], [15, 10, 1, 2, 12, 11, 6, 3, 14, 7, 4, 9, 13, 5, 16, 8], [15, 5, 4, 10, 6, 2, 12, 7, 1, 3, 11, 9, 13, 16, 14, 8], [15, 13, 14, 6, 10, 2, 11, 12, 16, 3, 5, 9, 7, 4, 1, 8], [15, 1, 12, 7, 14, 13, 11, 6, 2, 4, 5, 10, 3, 16, 9, 8], [15, 12, 14, 4, 2, 9, 1, 10, 3, 16, 6, 13, 7, 5, 11, 8], [15, 3, 6, 14, 4, 5, 9, 10, 13, 12, 2, 7, 16, 11, 1, 8], [15, 12, 4, 6, 14, 3, 2, 9, 13, 1, 16, 10, 7, 5, 11, 8], [15, 10, 11, 13, 3, 4, 7, 12, 6, 1, 9, 14, 2, 5, 16, 8], [15, 12, 16, 3, 1, 5, 14, 11, 7, 6, 10, 2, 4, 13, 9, 8], [15, 10, 6, 11, 3, 13, 1, 5, 2, 14, 16, 7, 12, 9, 4, 8], [15, 6, 2, 10, 3, 9, 1, 13, 16, 4, 12, 14, 7, 5, 11, 8], [15, 7, 12, 4, 11, 3, 9, 10, 2, 6, 16, 13, 5, 14, 1, 8], [15, 4, 10, 3, 6, 5, 12, 14, 2, 9, 11, 1, 16, 7, 13, 8], [15, 5, 1, 12, 3, 6, 2, 16, 13, 4, 11, 7, 10, 14, 9, 8], [15, 5, 13, 7, 2, 14, 12, 6, 3, 4, 16, 10, 9, 1, 11, 8], [15, 14, 7, 3, 1, 9, 5, 13, 11, 6, 10, 12, 4, 16, 2, 8], [15, 11, 4, 6, 5, 3, 13, 9, 1, 12, 7, 16, 10, 14, 2, 8], [15, 16, 6, 14, 10, 11, 12, 9, 3, 2, 7, 13, 5, 1, 4, 8], [15, 14, 1, 10, 6, 4, 9, 5, 13, 7, 11, 3, 16, 2, 12, 8], [15, 4, 11, 9, 7, 13, 1, 3, 10, 12, 6, 16, 5, 14, 2, 8], [15, 14, 11, 2, 9, 13, 5, 16, 4, 3, 6, 7, 1, 12, 10, 8], [15, 14, 16, 11, 3, 6, 2, 7, 12, 13, 5, 9, 4, 1, 10, 8], [15, 1, 11, 7, 13, 2, 16, 3, 12, 5, 4, 9, 10, 14, 6, 8], [15, 10, 4, 5, 14, 12, 11, 7, 9, 16, 13, 3, 1, 2, 6, 8], [15, 14, 2, 3, 10, 13, 5, 16, 7, 11, 12, 9, 1, 6, 4, 8], [15, 7, 12, 9, 11, 10, 16, 5, 14, 3, 13, 4, 1, 6, 2, 8], [15, 9, 13, 3, 14, 16, 6, 1, 7, 4, 12, 5, 2, 11, 10, 8], [15, 1, 7, 6, 9, 10, 12, 3, 14, 16, 13, 11, 4, 5, 2, 8], [15, 6, 11, 7, 3, 13, 10, 1, 12, 14, 5, 9, 16, 4, 2, 8], [15, 16, 3, 13, 5, 12, 7, 4, 14, 11, 1, 9, 6, 2, 10, 8], [15, 1, 3, 6, 14, 11, 16, 13, 10, 9, 4, 7, 2, 5, 12, 8], [15, 2, 7, 12, 16, 9, 10, 1, 5, 14, 13, 6, 3, 11, 4, 8], [15, 3, 12, 10, 11, 6, 2, 13, 4, 9, 14, 7, 16, 1, 5, 8], [15, 3, 10, 14, 6, 4, 13, 1, 9, 11, 7, 16, 5, 12, 2, 8], [15, 1, 16, 12, 7, 9, 10, 6, 4, 11, 5, 2, 14, 3, 13, 8], [15, 4, 13, 9, 6, 2, 16, 12, 3, 1, 10, 14, 11, 5, 7, 8], [15, 3, 14, 13, 12, 9, 7, 2, 11, 6, 16, 1, 10, 4, 5, 8], [15, 2, 12, 9, 1, 7, 4, 6, 16, 5, 11, 14, 3, 13, 10, 8], [15, 3, 6, 16, 13, 2, 14, 5, 1, 9, 11, 7, 4, 10, 12, 8]]\n",
            "[473, 603, 610, 615, 621, 655, 660, 671, 676, 686, 692, 704, 715, 717, 732, 737, 741, 742, 752, 753, 759, 762, 764, 764, 768, 768, 769, 771, 777, 787, 792, 794, 809, 809, 812, 824, 827, 849, 855, 858, 886, 887, 895, 911, 922, 926, 929, 932, 940, 990]\n"
          ]
        }
      ]
    },
    {
      "cell_type": "code",
      "source": [
        ""
      ],
      "metadata": {
        "id": "umifnb85xUfT"
      },
      "execution_count": 18,
      "outputs": []
    }
  ]
}