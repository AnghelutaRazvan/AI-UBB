{
  "nbformat": 4,
  "nbformat_minor": 0,
  "metadata": {
    "colab": {
      "name": "AI-Lab07.ipynb",
      "provenance": [],
      "collapsed_sections": []
    },
    "kernelspec": {
      "name": "python3",
      "display_name": "Python 3"
    },
    "language_info": {
      "name": "python"
    }
  },
  "cells": [
    {
      "cell_type": "code",
      "execution_count": 651,
      "metadata": {
        "colab": {
          "base_uri": "https://localhost:8080/"
        },
        "id": "17sUTdirYji-",
        "outputId": "e5e41647-2834-4219-cd38-c6e573aad86a"
      },
      "outputs": [
        {
          "output_type": "stream",
          "name": "stdout",
          "text": [
            "fatal: destination path 'AI-UBB' already exists and is not an empty directory.\n"
          ]
        }
      ],
      "source": [
        "!git clone https://github.com/AnghelutaRazvan/AI-UBB.git"
      ]
    },
    {
      "cell_type": "code",
      "source": [
        "fileNAME = '/content/AI-UBB/Lab07/v1_world-happiness-report-2017.csv'"
      ],
      "metadata": {
        "id": "IFQjqHhmbGqx"
      },
      "execution_count": 652,
      "outputs": []
    },
    {
      "cell_type": "code",
      "source": [
        "def readFile(fileName):\n",
        "  date = {}\n",
        "\n",
        "  file = open(fileName)\n",
        "  header = file.readline()[:-1].split(',')\n",
        "  for h in header:\n",
        "    if '\"' in h:\n",
        "      date[h[1:-1]] = []\n",
        "    else:\n",
        "      date[h] = []\n",
        "\n",
        "  line = '0'\n",
        "  while line != '' and line != '\\n':\n",
        "    line = file.readline()\n",
        "    cuvs = line.split('\"')\n",
        "    newcuvs = []\n",
        "\n",
        "    for cs in cuvs:\n",
        "      if len(cuvs) == 1:\n",
        "        newcuv = cs.strip('\\n').split(',')\n",
        "        #print(newcuv)\n",
        "        for nc in newcuv:\n",
        "          if nc != '' and nc != '' and nc != ',':\n",
        "            try:\n",
        "              newcuvs.append(float(nc))\n",
        "            except:\n",
        "              newcuvs.append(nc)\n",
        "\n",
        "      elif len(cs) > 0:\n",
        "        if cs[0] == ',':\n",
        "          newcuv = cs.strip('\\n').split(',')\n",
        "          #print(newcuv)\n",
        "          for nc in newcuv:\n",
        "            if nc != '' and nc != '' and nc != ',':\n",
        "              try:\n",
        "                newcuvs.append(float(nc))\n",
        "              except:\n",
        "                newcuvs.append(nc)\n",
        "        elif cs != '' and cs != '' and cs != ',':\n",
        "          try:\n",
        "            newcuvs.append(float(cs))\n",
        "          except:\n",
        "            newcuvs.append(cs)\n",
        "        \n",
        "    #print(newcuvs)\n",
        "    #print(len(newcuvs), len(header))\n",
        "    #print(newcuvs)\n",
        "    for i in range(len(newcuvs)):\n",
        "      if '\"' in header[i]:\n",
        "        date[header[i][1:-1]].append(newcuvs[i])\n",
        "      else:\n",
        "        date[header[i]].append(newcuvs[i])\n",
        "\n",
        "  file.close()\n",
        "      \n",
        "    \n",
        "\n",
        "  return date"
      ],
      "metadata": {
        "id": "AtYUosDaZtvD"
      },
      "execution_count": 653,
      "outputs": []
    },
    {
      "cell_type": "code",
      "source": [
        "data = readFile(fileNAME)\n",
        "data.keys()"
      ],
      "metadata": {
        "colab": {
          "base_uri": "https://localhost:8080/"
        },
        "id": "PqTi_4LTdbfM",
        "outputId": "0f66ed2d-eb9c-4540-8d5f-2c551d8a141a"
      },
      "execution_count": 654,
      "outputs": [
        {
          "output_type": "execute_result",
          "data": {
            "text/plain": [
              "dict_keys(['Country', 'Happiness.Rank', 'Happiness.Score', 'Whisker.high', 'Whisker.low', 'Economy..GDP.per.Capita.', 'Family', 'Health..Life.Expectancy.', 'Freedom', 'Generosity', 'Trust..Government.Corruption.', 'Dystopia.Residual'])"
            ]
          },
          "metadata": {},
          "execution_count": 654
        }
      ]
    },
    {
      "cell_type": "code",
      "source": [
        "import numpy as np"
      ],
      "metadata": {
        "id": "tJAnX87hxWTh"
      },
      "execution_count": 655,
      "outputs": []
    },
    {
      "cell_type": "code",
      "source": [
        "fericire = data['Happiness.Score']\n",
        "GDP = data['Economy..GDP.per.Capita.']\n",
        "libertate = data['Freedom']"
      ],
      "metadata": {
        "id": "mSdiurR54dgM"
      },
      "execution_count": 656,
      "outputs": []
    },
    {
      "cell_type": "code",
      "source": [
        "pAntrenament = 0.7\n",
        "nAntrenament = int(len(fericire)*pAntrenament)"
      ],
      "metadata": {
        "id": "Gwu6OmTYSWxm"
      },
      "execution_count": 657,
      "outputs": []
    },
    {
      "cell_type": "code",
      "source": [
        "fericireAntrenament = fericire[:nAntrenament]\n",
        "GDPAntrenament = GDP[:nAntrenament]\n",
        "libertateAntrenament = libertate[:nAntrenament]"
      ],
      "metadata": {
        "id": "KZ51ca4dSNur"
      },
      "execution_count": 658,
      "outputs": []
    },
    {
      "cell_type": "code",
      "source": [
        "X = np.array([[1, g, l] for g, l in zip(GDPAntrenament, libertateAntrenament)])\n",
        "Y = np.array([f for f in fericireAntrenament])"
      ],
      "metadata": {
        "id": "yxGmi51J3dH7"
      },
      "execution_count": 659,
      "outputs": []
    },
    {
      "cell_type": "code",
      "source": [
        "beta = np.dot((np.linalg.inv(np.dot(X.T,X))), np.dot(X.T,Y))\n",
        "beta"
      ],
      "metadata": {
        "colab": {
          "base_uri": "https://localhost:8080/"
        },
        "id": "DLLjXTL_jA4-",
        "outputId": "594c6586-6881-4ad7-ea7b-01ae4723784e"
      },
      "execution_count": 660,
      "outputs": [
        {
          "output_type": "execute_result",
          "data": {
            "text/plain": [
              "array([3.14094063, 1.35981951, 2.70991149])"
            ]
          },
          "metadata": {},
          "execution_count": 660
        }
      ]
    },
    {
      "cell_type": "code",
      "source": [
        "W = np.linalg.inv(np.matmul(X.T, X))\n",
        "W = np.matmul(W, np.matmul(X.T, Y))\n",
        "W"
      ],
      "metadata": {
        "colab": {
          "base_uri": "https://localhost:8080/"
        },
        "id": "HS80isum4Q7q",
        "outputId": "0717c6c3-e3df-4156-c323-66c8d7f5b24e"
      },
      "execution_count": 661,
      "outputs": [
        {
          "output_type": "execute_result",
          "data": {
            "text/plain": [
              "array([3.14094063, 1.35981951, 2.70991149])"
            ]
          },
          "metadata": {},
          "execution_count": 661
        }
      ]
    },
    {
      "cell_type": "code",
      "source": [
        "import matplotlib.pyplot as plt"
      ],
      "metadata": {
        "id": "epjw9qP29ctU"
      },
      "execution_count": 662,
      "outputs": []
    },
    {
      "cell_type": "code",
      "source": [
        "elev, azim = 40, 100"
      ],
      "metadata": {
        "id": "mxy7Q-eQPREB"
      },
      "execution_count": 663,
      "outputs": []
    },
    {
      "cell_type": "code",
      "source": [
        "fig = plt.figure()\n",
        "ax = plt.axes(projection='3d')\n",
        "\n",
        "ax.view_init(elev=elev, azim=azim)\n",
        "ax.scatter3D(GDP, libertate, fericire)"
      ],
      "metadata": {
        "colab": {
          "base_uri": "https://localhost:8080/",
          "height": 265
        },
        "id": "8IX3dbyvG5-3",
        "outputId": "7ad94858-7423-4ce6-f956-fe2aa297bf73"
      },
      "execution_count": 664,
      "outputs": [
        {
          "output_type": "execute_result",
          "data": {
            "text/plain": [
              "<mpl_toolkits.mplot3d.art3d.Path3DCollection at 0x7fcd01ad8fd0>"
            ]
          },
          "metadata": {},
          "execution_count": 664
        },
        {
          "output_type": "display_data",
          "data": {
            "text/plain": [
              "<Figure size 432x288 with 1 Axes>"
            ],
            "image/png": "[encoded data removed]"
          },
          "metadata": {
            "needs_background": "light"
          }
        }
      ]
    },
    {
      "cell_type": "code",
      "source": [
        "def fericireF(x1, x2):\n",
        "  return W[0] + W[1]*x1 +W[2]*x2"
      ],
      "metadata": {
        "id": "NSMsve7JJo7y"
      },
      "execution_count": 665,
      "outputs": []
    },
    {
      "cell_type": "code",
      "source": [
        "fig = plt.figure()\n",
        "ax = plt.axes(projection='3d')\n",
        "\n",
        "xx1, xx2 = np.meshgrid(range(2), range(2))\n",
        "z = fericireF(xx1, xx2)\n",
        "\n",
        "ax.view_init(elev=elev, azim=azim)\n",
        "ax.plot_surface(xx1, xx2, z)"
      ],
      "metadata": {
        "colab": {
          "base_uri": "https://localhost:8080/",
          "height": 265
        },
        "id": "4CvGa00BLXtw",
        "outputId": "8b030536-cb7d-4702-b6a3-e7a8ee33a611"
      },
      "execution_count": 666,
      "outputs": [
        {
          "output_type": "execute_result",
          "data": {
            "text/plain": [
              "<mpl_toolkits.mplot3d.art3d.Poly3DCollection at 0x7fcd01a6ca50>"
            ]
          },
          "metadata": {},
          "execution_count": 666
        },
        {
          "output_type": "display_data",
          "data": {
            "text/plain": [
              "<Figure size 432x288 with 1 Axes>"
            ],
            "image/png": "[encoded data removed]"
          },
          "metadata": {
            "needs_background": "light"
          }
        }
      ]
    },
    {
      "cell_type": "code",
      "source": [
        "from math import sqrt"
      ],
      "metadata": {
        "id": "m-1UE-XkQj3A"
      },
      "execution_count": 667,
      "outputs": []
    },
    {
      "cell_type": "code",
      "source": [
        "def MeanAbsError(a, b):\n",
        "  err = 0\n",
        "  n = len(a)\n",
        "  for i in range(n):\n",
        "    err += abs(a[i] - b[i])\n",
        "  return err/n"
      ],
      "metadata": {
        "id": "XfKNHBUuMhEp"
      },
      "execution_count": 668,
      "outputs": []
    },
    {
      "cell_type": "code",
      "source": [
        "def RootMeanSqError(a, b):\n",
        "  err = 0\n",
        "  n = len(a)\n",
        "  for i in range(n):\n",
        "    err += (a[i] - b[i])**2\n",
        "  return sqrt(err/n)"
      ],
      "metadata": {
        "id": "VDyfCAiaQdZ4"
      },
      "execution_count": 669,
      "outputs": []
    },
    {
      "cell_type": "code",
      "source": [
        "RootMeanSqError(fericire[nAntrenament:], [fericireF(GDP[i], libertate[i]) for i in range(nAntrenament, len(fericire))])"
      ],
      "metadata": {
        "colab": {
          "base_uri": "https://localhost:8080/"
        },
        "id": "6-osqoMrQiRJ",
        "outputId": "422208c2-2466-4639-e92a-116d9df09bb2"
      },
      "execution_count": 670,
      "outputs": [
        {
          "output_type": "execute_result",
          "data": {
            "text/plain": [
              "0.923198024821677"
            ]
          },
          "metadata": {},
          "execution_count": 670
        }
      ]
    },
    {
      "cell_type": "code",
      "source": [
        "MeanAbsError(fericire[nAntrenament:], [fericireF(GDP[i], libertate[i]) for i in range(nAntrenament, len(fericire))])"
      ],
      "metadata": {
        "id": "1XC0eTDVRChT",
        "colab": {
          "base_uri": "https://localhost:8080/"
        },
        "outputId": "1b2ee016-b0ad-4c50-b94d-4942e36e61b4"
      },
      "execution_count": 671,
      "outputs": [
        {
          "output_type": "execute_result",
          "data": {
            "text/plain": [
              "0.7897119782298979"
            ]
          },
          "metadata": {},
          "execution_count": 671
        }
      ]
    },
    {
      "cell_type": "code",
      "source": [
        ""
      ],
      "metadata": {
        "id": "SO2-eXp0gSgW"
      },
      "execution_count": 671,
      "outputs": []
    }
  ]
}