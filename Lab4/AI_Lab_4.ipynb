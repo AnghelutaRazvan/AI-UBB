{
  "nbformat": 4,
  "nbformat_minor": 0,
  "metadata": {
    "colab": {
      "name": "AI Lab 4.ipynb",
      "provenance": [],
      "collapsed_sections": [],
      "authorship_tag": "ABX9TyM265AZuYMmzHfx/aRE+TcF",
      "include_colab_link": true
    },
    "kernelspec": {
      "name": "python3",
      "display_name": "Python 3"
    },
    "language_info": {
      "name": "python"
    }
  },
  "cells": [
    {
      "cell_type": "markdown",
      "metadata": {
        "id": "view-in-github",
        "colab_type": "text"
      },
      "source": [
        "<a href=\"https://colab.research.google.com/github/AnghelutaRazvan/AI-UBB/blob/main/Lab4/AI_Lab_4.ipynb\" target=\"_parent\"><img src=\"https://colab.research.google.com/assets/colab-badge.svg\" alt=\"Open In Colab\"/></a>"
      ]
    },
    {
      "cell_type": "code",
      "execution_count": 46,
      "metadata": {
        "id": "ovbcK-lDDTRj"
      },
      "outputs": [],
      "source": [
        "import random\n",
        "import numpy as np"
      ]
    },
    {
      "cell_type": "code",
      "source": [
        "def read(filename, rand = 0):\n",
        "  \n",
        "  if rand == 0:\n",
        "    f = open(filename)\n",
        "    n = int(f.readline())\n",
        "    mat = np.array([0]*n*n).reshape(n,n)\n",
        "    for i in range(n):\n",
        "      line = f.readline()\n",
        "      cuv = line.split(',')\n",
        "      for j in range(n):\n",
        "        mat[i][j] = int(cuv[j])\n",
        "    s = int(f.readline())\n",
        "    d = int(f.readline())\n",
        "    f.close()\n",
        "  \n",
        "  if rand == 1:\n",
        "    n = random.randint(5, 18)\n",
        "    mat = np.array([0]*n*n).reshape(n,n)\n",
        "    for i in range(n):\n",
        "      for j in range(i):\n",
        "        mat[i][j] = random.randint(2, 101)\n",
        "        mat[j][i] = mat[i][j]\n",
        "    s = random.randint(1, n+1)\n",
        "    d = random.randint(1, n+1)\n",
        "\n",
        "  return (n, s, d, mat)\n"
      ],
      "metadata": {
        "id": "gB-ycK1kGCyl"
      },
      "execution_count": 47,
      "outputs": []
    },
    {
      "cell_type": "code",
      "source": [
        "#r = read(\"/easy_01_tsp.txt\")\n",
        "r = read(\"mine1_tsp.txt\", 0)\n",
        "n, s, d, mat = r\n",
        "print(\"Numarul de noduri:\", n, \"\\nSursa:\", s,\"\\nDestinatia:\", d,\"\\nMatricea de greutati:\\n\", mat)"
      ],
      "metadata": {
        "colab": {
          "base_uri": "https://localhost:8080/"
        },
        "id": "kzkVCBisJlZB",
        "outputId": "fc5e8014-89ee-48a2-9cb1-fa177798b6da"
      },
      "execution_count": 48,
      "outputs": [
        {
          "output_type": "stream",
          "name": "stdout",
          "text": [
            "Numarul de noduri: 5 \n",
            "Sursa: 2 \n",
            "Destinatia: 4 \n",
            "Matricea de greutati:\n",
            " [[0 2 4 3 6]\n",
            " [2 0 6 1 3]\n",
            " [4 6 0 8 5]\n",
            " [3 1 8 0 2]\n",
            " [6 3 5 2 0]]\n"
          ]
        }
      ]
    },
    {
      "cell_type": "code",
      "source": [
        "def fitness(ind):\n",
        "  f = 0\n",
        "  for i in range(len(ind)-1):\n",
        "    #print(f,[ind[i]-1],[ind[i+1]-1], mat[ind[i]-1][ind[i+1]-1])\n",
        "    f += mat[ind[i]-1][ind[i+1]-1]\n",
        "  return f"
      ],
      "metadata": {
        "id": "pGLWVXyhR3pS"
      },
      "execution_count": 49,
      "outputs": []
    },
    {
      "cell_type": "code",
      "source": [
        "pathOpt = list(i + 1 for i in range(n))\n",
        "pathOpt.remove(s)\n",
        "pathOpt.remove(d)\n",
        "pathOpt"
      ],
      "metadata": {
        "colab": {
          "base_uri": "https://localhost:8080/"
        },
        "id": "h-ABYYkdLDjR",
        "outputId": "6d2c7ac8-7cdd-48b9-fb1d-2ba925176f96"
      },
      "execution_count": 50,
      "outputs": [
        {
          "output_type": "execute_result",
          "data": {
            "text/plain": [
              "[1, 3, 5]"
            ]
          },
          "metadata": {},
          "execution_count": 50
        }
      ]
    },
    {
      "cell_type": "code",
      "source": [
        "def genInd():\n",
        "  path = [s] + random.sample(pathOpt, n-2) + [d]\n",
        "  return path"
      ],
      "metadata": {
        "id": "qBuNvppkNAgO"
      },
      "execution_count": 51,
      "outputs": []
    },
    {
      "cell_type": "code",
      "source": [
        "def genPop(npop):\n",
        "  pop = []\n",
        "  noLoop = 0\n",
        "  for i in range(npop):\n",
        "    Ind = genInd()\n",
        "    while Ind in pop:\n",
        "      Ind = genInd()\n",
        "      noLoop += 1\n",
        "      if noLoop > 20:\n",
        "        return pop\n",
        "\n",
        "    pop.append(Ind)\n",
        "\n",
        "  return pop"
      ],
      "metadata": {
        "id": "055lsRCHtkfN"
      },
      "execution_count": 52,
      "outputs": []
    },
    {
      "cell_type": "code",
      "source": [
        "print(genPop(7))"
      ],
      "metadata": {
        "colab": {
          "base_uri": "https://localhost:8080/"
        },
        "id": "qsJYp9Hbuh2S",
        "outputId": "2d771ae2-7d98-4305-ff4f-01063c0385af"
      },
      "execution_count": 53,
      "outputs": [
        {
          "output_type": "stream",
          "name": "stdout",
          "text": [
            "[[2, 5, 3, 1, 4], [2, 1, 3, 5, 4], [2, 3, 1, 5, 4], [2, 5, 1, 3, 4], [2, 1, 5, 3, 4], [2, 3, 5, 1, 4]]\n"
          ]
        }
      ]
    },
    {
      "cell_type": "code",
      "source": [
        "def cross(a, b):\n",
        "  n = min(len(a), len(b))\n",
        "  for i in range(n):\n",
        "    if a[i] == b[i]:\n",
        "      if random.random() < 0.9:\n",
        "        break\n",
        "  return a[0:i] + b[i:n]"
      ],
      "metadata": {
        "id": "myMqrkrKqEVy"
      },
      "execution_count": 54,
      "outputs": []
    },
    {
      "cell_type": "code",
      "source": [
        "def mutate(chance, a):\n",
        "  if random.random() < chance:\n",
        "    i1 = random.raindint(1, n)\n",
        "    i2 = random.raindint(1, n)\n",
        "    a[i1], a[i2] = a[i2], a[i1]"
      ],
      "metadata": {
        "id": "EINErTmD0zYf"
      },
      "execution_count": 55,
      "outputs": []
    },
    {
      "cell_type": "code",
      "source": [
        "cross([1, 2, 3, 4, 5, 6, 7], [11, 22, 33, 44, 5, 66, 77])"
      ],
      "metadata": {
        "colab": {
          "base_uri": "https://localhost:8080/"
        },
        "id": "veJGMCkch9AE",
        "outputId": "02f553f3-e361-4911-adaa-df55e80dbb6b"
      },
      "execution_count": 56,
      "outputs": [
        {
          "output_type": "execute_result",
          "data": {
            "text/plain": [
              "[1, 2, 3, 4, 5, 66, 77]"
            ]
          },
          "metadata": {},
          "execution_count": 56
        }
      ]
    },
    {
      "cell_type": "code",
      "source": [
        "cross([11, 22, 33, 44, 5, 66, 77], [1, 2, 3, 4, 5, 6, 7])"
      ],
      "metadata": {
        "colab": {
          "base_uri": "https://localhost:8080/"
        },
        "id": "LlFr8seJrWtI",
        "outputId": "1f52fd67-8929-4d0e-af5f-d32ef8dc7a69"
      },
      "execution_count": 57,
      "outputs": [
        {
          "output_type": "execute_result",
          "data": {
            "text/plain": [
              "[11, 22, 33, 44, 5, 6, 7]"
            ]
          },
          "metadata": {},
          "execution_count": 57
        }
      ]
    },
    {
      "cell_type": "code",
      "source": [
        "def breed(popI, nbreed):\n",
        "  popB = popI.copy()\n",
        "  popB.sort(key = fitness)\n",
        "  for i in range(nbreed+1):\n",
        "    kid1 = cross(popB[0], popB[1])\n",
        "    kid2 = cross(popB[1], popB[0])\n",
        "\n",
        "    if fitness(kid1) < fitness(popB[-1]) and kid1 not in popB:\n",
        "      popB[-1] = kid1\n",
        "    if fitness(kid2) < fitness(popB[-2]) and kid2 not in popB:\n",
        "      popB[-2] = kid2\n",
        "\n",
        "    popB.sort(key = fitness)\n",
        "  return popB"
      ],
      "metadata": {
        "id": "WExMt3rVqmb-"
      },
      "execution_count": 58,
      "outputs": []
    },
    {
      "cell_type": "code",
      "source": [
        "def eval(popI):\n",
        "  popE = popI.copy()\n",
        "  popE.sort(key = fitness)\n",
        "  f = [fitness(p) for p in popE]\n",
        "  print(popE)\n",
        "  print(f)"
      ],
      "metadata": {
        "id": "Xxu87ghstLqT"
      },
      "execution_count": 59,
      "outputs": []
    },
    {
      "cell_type": "code",
      "source": [
        "pop = genPop(50)"
      ],
      "metadata": {
        "id": "dFfWDD64xKDO"
      },
      "execution_count": 60,
      "outputs": []
    },
    {
      "cell_type": "code",
      "source": [
        "eval(pop)"
      ],
      "metadata": {
        "colab": {
          "base_uri": "https://localhost:8080/"
        },
        "id": "xUOxWyOotPVd",
        "outputId": "96197b0d-74e2-4dee-a76d-2b180b5c2003"
      },
      "execution_count": 61,
      "outputs": [
        {
          "output_type": "stream",
          "name": "stdout",
          "text": [
            "[[2, 1, 3, 5, 4], [2, 5, 3, 1, 4], [2, 3, 1, 5, 4], [2, 3, 5, 1, 4], [2, 1, 5, 3, 4], [2, 5, 1, 3, 4]]\n",
            "[13, 15, 18, 20, 21, 21]\n"
          ]
        }
      ]
    },
    {
      "cell_type": "code",
      "source": [
        "popNew = breed(pop, 100)"
      ],
      "metadata": {
        "id": "_Bgjr4N0tCh-"
      },
      "execution_count": 62,
      "outputs": []
    },
    {
      "cell_type": "code",
      "source": [
        "eval(popNew)"
      ],
      "metadata": {
        "colab": {
          "base_uri": "https://localhost:8080/"
        },
        "id": "1s5iHcwBxk4c",
        "outputId": "dec265a2-5ec7-4a63-b069-8e9dd643f5c0"
      },
      "execution_count": 63,
      "outputs": [
        {
          "output_type": "stream",
          "name": "stdout",
          "text": [
            "[[2, 1, 3, 5, 4], [2, 1, 3, 1, 4], [2, 5, 3, 1, 4], [2, 3, 1, 5, 4], [2, 3, 5, 1, 4], [2, 1, 5, 3, 4]]\n",
            "[13, 13, 15, 18, 20, 21]\n"
          ]
        }
      ]
    },
    {
      "cell_type": "code",
      "source": [
        ""
      ],
      "metadata": {
        "id": "umifnb85xUfT"
      },
      "execution_count": 63,
      "outputs": []
    }
  ]
}